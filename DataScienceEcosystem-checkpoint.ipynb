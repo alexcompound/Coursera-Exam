{
 "cells": [
  {
   "cell_type": "markdown",
   "id": "5bc9bc4c",
   "metadata": {},
   "source": [
    "# Data Science Tools and Ecosystem"
   ]
  },
  {
   "cell_type": "markdown",
   "id": "606db18c",
   "metadata": {},
   "source": [
    "In this notebook, Data Science Tools and Ecosystem are summarized."
   ]
  },
  {
   "cell_type": "markdown",
   "id": "f22f38d0",
   "metadata": {},
   "source": [
    "### Objectives\n",
    "#### 1- List popular languages that Data Scientists use.\n",
    "#### 2- List commonly used libraries used by Data Scientists.\n",
    "#### 3- Comment on Data Science tools."
   ]
  },
  {
   "cell_type": "markdown",
   "id": "ac05429f",
   "metadata": {},
   "source": [
    "Some of the popular languages that Data Scientists use are:"
   ]
  },
  {
   "cell_type": "markdown",
   "id": "ea87495f",
   "metadata": {},
   "source": [
    "#### ordered_list\n",
    "###### 1-python\n",
    "######  2-R\n",
    "###### 3-Scala\n",
    "###### 4-Java\n",
    "######  5-Julia\n",
    "###### 6-C/C++\n"
   ]
  },
  {
   "cell_type": "markdown",
   "id": "ffa6e53e",
   "metadata": {},
   "source": [
    "### Some of the commonly used libraries used by Data Scientists include:\n",
    "#### 1-Numpy\n",
    "#### 3-Pandas\n",
    "#### 4-Scikitlearn\n",
    "#### 5-Seaborn"
   ]
  },
  {
   "cell_type": "markdown",
   "id": "6da212b3",
   "metadata": {},
   "source": [
    "\n",
    "| Data Science Tools | \n",
    "| --- | \n",
    "| RStudio |\n",
    "| Apache Spark |\n",
    "| TensorFlow |\n",
    "| Apache Hadoop |"
   ]
  },
  {
   "cell_type": "markdown",
   "id": "c626fcc9",
   "metadata": {},
   "source": [
    "### Below are a few examples of evaluating arithmetic expressions in Python"
   ]
  },
  {
   "cell_type": "code",
   "execution_count": 6,
   "id": "6e41cde0",
   "metadata": {},
   "outputs": [
    {
     "data": {
      "text/plain": [
       "17"
      ]
     },
     "execution_count": 6,
     "metadata": {},
     "output_type": "execute_result"
    }
   ],
   "source": [
    "# This a simple arithmetic expression to mutiply then add integers\n",
    "(3*4)+5"
   ]
  },
  {
   "cell_type": "code",
   "execution_count": 10,
   "id": "e4dcd233",
   "metadata": {},
   "outputs": [
    {
     "name": "stdout",
     "output_type": "stream",
     "text": [
      "hours is = 3.3333333333333335\n"
     ]
    }
   ],
   "source": [
    "# This will convert 200 minutes to hours by diving by 60\n",
    "hours = 200/60 \n",
    "print (\"hours is =\" , hours)"
   ]
  },
  {
   "cell_type": "markdown",
   "id": "474505d1",
   "metadata": {},
   "source": [
    "## Author :\n",
    "Vahid"
   ]
  },
  {
   "cell_type": "code",
   "execution_count": null,
   "id": "7cb22501",
   "metadata": {},
   "outputs": [],
   "source": []
  }
 ],
 "metadata": {
  "kernelspec": {
   "display_name": "Python 3 (ipykernel)",
   "language": "python",
   "name": "python3"
  },
  "language_info": {
   "codemirror_mode": {
    "name": "ipython",
    "version": 3
   },
   "file_extension": ".py",
   "mimetype": "text/x-python",
   "name": "python",
   "nbconvert_exporter": "python",
   "pygments_lexer": "ipython3",
   "version": "3.10.9"
  }
 },
 "nbformat": 4,
 "nbformat_minor": 5
}
